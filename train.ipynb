{
  "nbformat": 4,
  "nbformat_minor": 0,
  "metadata": {
    "colab": {
      "provenance": [],
      "collapsed_sections": [],
      "authorship_tag": "ABX9TyM84kiFMGuPRT70l/LDGD8X",
      "include_colab_link": true
    },
    "kernelspec": {
      "name": "python3",
      "display_name": "Python 3"
    },
    "language_info": {
      "name": "python"
    }
  },
  "cells": [
    {
      "cell_type": "markdown",
      "metadata": {
        "id": "view-in-github",
        "colab_type": "text"
      },
      "source": [
        "<a href=\"https://colab.research.google.com/github/bh8648/Deep-Learning/blob/main/train.ipynb\" target=\"_parent\"><img src=\"https://colab.research.google.com/assets/colab-badge.svg\" alt=\"Open In Colab\"/></a>"
      ]
    },
    {
      "cell_type": "code",
      "source": [
        "from google.colab import drive\n",
        "drive.mount('/content/drive')"
      ],
      "metadata": {
        "colab": {
          "base_uri": "https://localhost:8080/"
        },
        "id": "IAWFzmgM3koC",
        "outputId": "908bafb6-4d9b-44d4-f8bf-b83d60c943a3"
      },
      "execution_count": 6,
      "outputs": [
        {
          "output_type": "stream",
          "name": "stdout",
          "text": [
            "Mounted at /content/drive\n"
          ]
        }
      ]
    },
    {
      "cell_type": "code",
      "source": [
        "%cd /content/drive/MyDrive/Deep-Learning/"
      ],
      "metadata": {
        "colab": {
          "base_uri": "https://localhost:8080/"
        },
        "id": "CdqqAq1F3ab0",
        "outputId": "ec326312-480e-43a8-b869-902e81ca25f2"
      },
      "execution_count": 7,
      "outputs": [
        {
          "output_type": "stream",
          "name": "stdout",
          "text": [
            "/content/drive/MyDrive/Deep-Learning\n"
          ]
        }
      ]
    },
    {
      "cell_type": "code",
      "execution_count": 9,
      "metadata": {
        "colab": {
          "base_uri": "https://localhost:8080/",
          "height": 266
        },
        "id": "lVQ0v3Bh2Btr",
        "outputId": "9781c4fa-3541-44e3-c293-039767a6c180"
      },
      "outputs": [
        {
          "output_type": "stream",
          "name": "stderr",
          "text": [
            "usage: ipykernel_launcher.py [-h] --model_fn MODEL_FN [--gpu_id GPU_ID]\n",
            "                             [--train_ratio TRAIN_RATIO]\n",
            "                             [--batch_size BATCH_SIZE] [--n_epochs N_EPOCHS]\n",
            "                             [--n_layers N_LAYERS] [--use_dropout]\n",
            "                             [--dropout_p DROPOUT_P] [--verbose VERBOSE]\n",
            "ipykernel_launcher.py: error: the following arguments are required: --model_fn\n"
          ]
        },
        {
          "output_type": "error",
          "ename": "SystemExit",
          "evalue": "ignored",
          "traceback": [
            "An exception has occurred, use %tb to see the full traceback.\n",
            "\u001b[0;31mSystemExit\u001b[0m\u001b[0;31m:\u001b[0m 2\n"
          ]
        },
        {
          "output_type": "stream",
          "name": "stderr",
          "text": [
            "/usr/local/lib/python3.7/dist-packages/IPython/core/interactiveshell.py:3334: UserWarning: To exit: use 'exit', 'quit', or Ctrl-D.\n",
            "  warn(\"To exit: use 'exit', 'quit', or Ctrl-D.\", stacklevel=1)\n"
          ]
        }
      ],
      "source": [
        "# <학습자료 8-1>\n",
        "\n",
        "# define_argparser 함수\n",
        "import argparse\n",
        "\n",
        "import torch\n",
        "import torch.nn as nn\n",
        "import torch.optim as optim\n",
        "\n",
        "from model import ImageClassifier\n",
        "from trainer import Trainer\n",
        "\n",
        "from utils import load_mnist\n",
        "from utils import split_data\n",
        "from utils import get_hidden_sizes\n",
        "\n",
        "\n",
        "def define_argparser() :\n",
        "    p = argparse.ArgumentParser()\n",
        "\n",
        "    p.add_argument('--model_fn', required=True)\n",
        "    p.add_argument('--gpu_id', type=int, default=0 if torch.cuda.is_available() else -1)\n",
        "\n",
        "    p.add_argument('--train_ratio', type=float, default=.8)\n",
        "\n",
        "    p.add_argument('--batch_size', type=int, default=256)\n",
        "    p.add_argument('--n_epochs', type=int, default=20)\n",
        "\n",
        "    p.add_argument('--n_layers', type=int, default=5)\n",
        "    p.add_argument('--use_dropout', action='store_true')\n",
        "    p.add_argument('--dropout_p', type=float, default=5)\n",
        "\n",
        "    # verbose => 여러가지 내용들을 장황하게 다 보여주는 것\n",
        "    p. add_argument('--verbose', type=int, default=1)\n",
        "\n",
        "    config = p.parse_args()\n",
        "\n",
        "    return config\n",
        "\n",
        "\n",
        "def main(config) :\n",
        "    # Set device based on user defined configuration.\n",
        "    device = torch.device('cpu') if config.gpu_id < 0 else torch.device('cuda:%d' % config.gpu_id)\n",
        "    \n",
        "    x, y = load_mnist(is_train=True, flatten=True)\n",
        "    x, y = split_data(x.to(device), y.to(device), train_ratio=config.train_ratio)\n",
        "    \n",
        "    print(\"Train:\", x[0].shape, y[0].shape)\n",
        "    print(\"Valid:\", x[1].shape, y[1].shape)\n",
        "    \n",
        "    input_size = int(x[0].shape[-1])\n",
        "    output_size = int(max(y[0])) + 1\n",
        "\n",
        "    model = ImageClassifier(\n",
        "        input_size = input_size,\n",
        "        output_size = output_size,\n",
        "        hidden_sizes = get_hidden_sizes(input_size,\n",
        "                                       output_size,\n",
        "                                       config.n_layers),\n",
        "        use_batch_norm = not config.use_dropout,\n",
        "        dropout_p = config.dropout_p,\n",
        "    ).to(device)\n",
        "    optimizer = optim.Adam(model.parameters())\n",
        "    crit = nn.NLLLoss\n",
        "    \n",
        "    if config.verbose >= 1 :\n",
        "        print(model)\n",
        "        print(optimizer)\n",
        "        print(crit)\n",
        "\n",
        "    trainer = Trainer(model, optimizer, crit)\n",
        "    \n",
        "    # 트레이닝이 일어남.\n",
        "    trainer.train(\n",
        "        train_data(x[0], y[0]),\n",
        "        train_data(x[0], y[0]),\n",
        "        config = config\n",
        "    )\n",
        "    \n",
        "    # Save best model weights.\n",
        "    torch.save({\n",
        "        'model' : trainer.model.state_dict(),\n",
        "        'opt' : optimizer.state_dict(),\n",
        "        'config' : config\n",
        "    }, config.model_fn)\n",
        "\n",
        "if __name__ == '__main__' :\n",
        "    config = define_argparser()\n",
        "    main(config)"
      ]
    }
  ]
}